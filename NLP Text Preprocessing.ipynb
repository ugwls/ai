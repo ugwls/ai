{
 "cells": [
  {
   "cell_type": "code",
   "execution_count": 1,
   "id": "9190cfb0",
   "metadata": {},
   "outputs": [],
   "source": [
    "import nltk\n",
    "import string \n",
    "\n",
    "# nltk.download('punkt')\n",
    "# nltk.download('wordnet')\n",
    "# nltk.download('omw-1.4')\n",
    "# nltk.download('stopwords')\n",
    "# nltk.download('averaged_perceptron_tagger')"
   ]
  },
  {
   "cell_type": "code",
   "execution_count": null,
   "id": "c631d08c",
   "metadata": {
    "scrolled": true
   },
   "outputs": [],
   "source": [
    "# input text\n",
    "text = \"\"\"He said, “When you have that dream once \n",
    "it's a dream; when you have it twice it becomes a desire. And when you see it for \n",
    "the third time consecutively, it becomes a passion, an aim and a goal”, and that is \n",
    "the passion with which I want to see this fantasy that I have for India 2030.And Abraham \n",
    "Lincoln also was a dreamer and you know, but he said one thing that makes most sense in trying \n",
    "to achieve this goal that I have dreamed for my nation. He said, “If I have six hours to cut \n",
    "down a tree, then I would spend the first four hours sharpening the axe.” There's a great \n",
    "philosophy in that.In this era of instant gratification we just keep thinking we can achieve \n",
    "all these goals by just tweaking this, tweaking that, it's not true. I really believe that a \n",
    "missionary zeal is required to make that quantum change, that can make 2030 of what I'm dreaming \n",
    "about right now. And just let's look at India as a country, what a unique nation! Seriously. \n",
    "Thousands of years old of culture and tradition, many many invasions, being ruled for many years \n",
    "and we still somehow managed to maintain our identity.\"\"\"\n",
    "\n",
    "# tokenize the text\n",
    "tokens = nltk.word_tokenize(text)\n",
    "\n",
    "lowercased_tokens = [token.lower() for token in tokens]   #converting to lower case\n",
    "\n",
    "stopwords = nltk.corpus.stopwords.words(\"english\")\n",
    "\n",
    "filtered_tokens = [token for token in lowercased_tokens if token.lower() not in stopwords]     #remove stop words\n",
    "\n",
    "#remove all punctuations\n",
    "filtered_tokens = [token for token in filtered_tokens if token not in string.punctuation and token != \"'\" and token != '“' and token !='”']\n",
    "filtered_tokens"
   ]
  },
  {
   "cell_type": "code",
   "execution_count": null,
   "id": "ee520400",
   "metadata": {
    "scrolled": true
   },
   "outputs": [],
   "source": [
    "# Stemming\n",
    "stemmer = nltk.stem.PorterStemmer()\n",
    "stemmed_tokens = [stemmer.stem(token) for token in filtered_tokens]\n",
    "stemmed_tokens"
   ]
  },
  {
   "cell_type": "code",
   "execution_count": null,
   "id": "080e3a73",
   "metadata": {
    "scrolled": true
   },
   "outputs": [],
   "source": [
    "# Lemmatization\n",
    "lemmatizer = nltk.stem.WordNetLemmatizer()\n",
    "lemmatized_tokens = [lemmatizer.lemmatize(token) for token in filtered_tokens]\n",
    "lemmatized_tokens"
   ]
  },
  {
   "cell_type": "code",
   "execution_count": null,
   "id": "3d0845ec",
   "metadata": {
    "scrolled": true
   },
   "outputs": [],
   "source": [
    "#speech tagging\n",
    "pos_tokens = nltk.pos_tag(lemmatized_tokens)\n",
    "pos_tokens"
   ]
  }
 ],
 "metadata": {
  "kernelspec": {
   "display_name": "Python 3 (ipykernel)",
   "language": "python",
   "name": "python3"
  },
  "language_info": {
   "codemirror_mode": {
    "name": "ipython",
    "version": 3
   },
   "file_extension": ".py",
   "mimetype": "text/x-python",
   "name": "python",
   "nbconvert_exporter": "python",
   "pygments_lexer": "ipython3",
   "version": "3.10.2"
  }
 },
 "nbformat": 4,
 "nbformat_minor": 5
}
